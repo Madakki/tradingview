{
 "cells": [
  {
   "cell_type": "code",
   "execution_count": 1,
   "id": "c8fef547",
   "metadata": {},
   "outputs": [],
   "source": [
    "import pandas as pd\n",
    "import tradingview_ta"
   ]
  },
  {
   "cell_type": "code",
   "execution_count": 2,
   "id": "f8356944",
   "metadata": {},
   "outputs": [],
   "source": [
    "from tradingview_ta import TA_Handler, Interval, Exchange\n"
   ]
  },
  {
   "cell_type": "code",
   "execution_count": 3,
   "id": "363fbe9b",
   "metadata": {},
   "outputs": [
    {
     "name": "stdout",
     "output_type": "stream",
     "text": [
      "btcusd\n"
     ]
    }
   ],
   "source": [
    "symbols_1=[input()]\n"
   ]
  },
  {
   "cell_type": "code",
   "execution_count": 6,
   "id": "c7d315e8",
   "metadata": {},
   "outputs": [],
   "source": [
    "symbols=['kotakbank','hdfclife','sbin','icicibank','axisbank','hdfcbank','grasim','reliance','powergrid','ongc','adaniports','ntpc','bpcl','tcs','sunpharma','coalindia','cipla','jswsteel','itc','infy','tatamotors']"
   ]
  },
  {
   "cell_type": "code",
   "execution_count": 7,
   "id": "0ebba4b1",
   "metadata": {},
   "outputs": [
    {
     "name": "stdout",
     "output_type": "stream",
     "text": [
      "symbol:kotakbank\n",
      "{'RECOMMENDATION': 'STRONG_SELL', 'BUY': 2, 'SELL': 16, 'NEUTRAL': 8}\n",
      "symbol:hdfclife\n",
      "{'RECOMMENDATION': 'STRONG_SELL', 'BUY': 0, 'SELL': 16, 'NEUTRAL': 10}\n",
      "symbol:sbin\n",
      "{'RECOMMENDATION': 'NEUTRAL', 'BUY': 7, 'SELL': 9, 'NEUTRAL': 10}\n",
      "symbol:icicibank\n",
      "{'RECOMMENDATION': 'BUY', 'BUY': 11, 'SELL': 6, 'NEUTRAL': 9}\n",
      "symbol:axisbank\n",
      "{'RECOMMENDATION': 'STRONG_SELL', 'BUY': 0, 'SELL': 17, 'NEUTRAL': 9}\n",
      "symbol:hdfcbank\n",
      "{'RECOMMENDATION': 'SELL', 'BUY': 5, 'SELL': 11, 'NEUTRAL': 10}\n",
      "symbol:grasim\n",
      "{'RECOMMENDATION': 'SELL', 'BUY': 6, 'SELL': 11, 'NEUTRAL': 9}\n",
      "symbol:reliance\n",
      "{'RECOMMENDATION': 'BUY', 'BUY': 11, 'SELL': 6, 'NEUTRAL': 9}\n",
      "symbol:powergrid\n",
      "{'RECOMMENDATION': 'STRONG_SELL', 'BUY': 0, 'SELL': 16, 'NEUTRAL': 10}\n",
      "symbol:ongc\n",
      "{'RECOMMENDATION': 'NEUTRAL', 'BUY': 7, 'SELL': 9, 'NEUTRAL': 10}\n",
      "symbol:adaniports\n",
      "{'RECOMMENDATION': 'BUY', 'BUY': 13, 'SELL': 5, 'NEUTRAL': 8}\n",
      "symbol:ntpc\n",
      "{'RECOMMENDATION': 'BUY', 'BUY': 12, 'SELL': 5, 'NEUTRAL': 9}\n",
      "symbol:bpcl\n",
      "{'RECOMMENDATION': 'STRONG_SELL', 'BUY': 1, 'SELL': 16, 'NEUTRAL': 9}\n",
      "symbol:tcs\n",
      "{'RECOMMENDATION': 'STRONG_BUY', 'BUY': 16, 'SELL': 0, 'NEUTRAL': 10}\n",
      "symbol:sunpharma\n",
      "{'RECOMMENDATION': 'BUY', 'BUY': 11, 'SELL': 5, 'NEUTRAL': 10}\n",
      "symbol:coalindia\n",
      "{'RECOMMENDATION': 'BUY', 'BUY': 14, 'SELL': 5, 'NEUTRAL': 7}\n",
      "symbol:cipla\n",
      "{'RECOMMENDATION': 'SELL', 'BUY': 5, 'SELL': 11, 'NEUTRAL': 10}\n",
      "symbol:jswsteel\n",
      "{'RECOMMENDATION': 'STRONG_BUY', 'BUY': 16, 'SELL': 0, 'NEUTRAL': 10}\n",
      "symbol:itc\n",
      "{'RECOMMENDATION': 'BUY', 'BUY': 15, 'SELL': 1, 'NEUTRAL': 10}\n",
      "symbol:infy\n",
      "{'RECOMMENDATION': 'BUY', 'BUY': 16, 'SELL': 2, 'NEUTRAL': 8}\n",
      "symbol:tatamotors\n",
      "{'RECOMMENDATION': 'SELL', 'BUY': 3, 'SELL': 14, 'NEUTRAL': 9}\n"
     ]
    }
   ],
   "source": [
    "for symbol in symbols:\n",
    "    output=TA_Handler(symbol=symbol,\n",
    "                      screener='india',\n",
    "                      exchange='nse',\n",
    "                      interval=Interval.INTERVAL_1_MINUTE)\n",
    "    print('symbol:'+symbol)\n",
    "    \n",
    "    print(output.get_analysis().summary)"
   ]
  },
  {
   "cell_type": "code",
   "execution_count": 8,
   "id": "c4faaea2",
   "metadata": {
    "scrolled": false
   },
   "outputs": [
    {
     "name": "stdout",
     "output_type": "stream",
     "text": [
      "symbol:kotakbank\n",
      "{'RECOMMENDATION': 'SELL', 'BUY': 6, 'SELL': 15, 'NEUTRAL': 5}\n",
      "symbol:hdfclife\n",
      "{'RECOMMENDATION': 'SELL', 'BUY': 2, 'SELL': 14, 'NEUTRAL': 10}\n",
      "symbol:sbin\n",
      "{'RECOMMENDATION': 'SELL', 'BUY': 2, 'SELL': 14, 'NEUTRAL': 10}\n",
      "symbol:icicibank\n",
      "{'RECOMMENDATION': 'SELL', 'BUY': 6, 'SELL': 14, 'NEUTRAL': 6}\n",
      "symbol:axisbank\n",
      "{'RECOMMENDATION': 'SELL', 'BUY': 3, 'SELL': 14, 'NEUTRAL': 9}\n",
      "symbol:hdfcbank\n",
      "{'RECOMMENDATION': 'SELL', 'BUY': 4, 'SELL': 13, 'NEUTRAL': 9}\n",
      "symbol:grasim\n",
      "{'RECOMMENDATION': 'NEUTRAL', 'BUY': 9, 'SELL': 8, 'NEUTRAL': 9}\n",
      "symbol:reliance\n",
      "{'RECOMMENDATION': 'NEUTRAL', 'BUY': 10, 'SELL': 8, 'NEUTRAL': 8}\n",
      "symbol:powergrid\n",
      "{'RECOMMENDATION': 'BUY', 'BUY': 14, 'SELL': 2, 'NEUTRAL': 10}\n",
      "symbol:ongc\n",
      "{'RECOMMENDATION': 'BUY', 'BUY': 12, 'SELL': 5, 'NEUTRAL': 9}\n",
      "symbol:adaniports\n",
      "{'RECOMMENDATION': 'BUY', 'BUY': 12, 'SELL': 4, 'NEUTRAL': 10}\n",
      "symbol:ntpc\n",
      "{'RECOMMENDATION': 'BUY', 'BUY': 13, 'SELL': 4, 'NEUTRAL': 9}\n",
      "symbol:bpcl\n",
      "{'RECOMMENDATION': 'SELL', 'BUY': 2, 'SELL': 14, 'NEUTRAL': 10}\n",
      "symbol:tcs\n",
      "{'RECOMMENDATION': 'SELL', 'BUY': 6, 'SELL': 11, 'NEUTRAL': 9}\n",
      "symbol:sunpharma\n",
      "{'RECOMMENDATION': 'SELL', 'BUY': 3, 'SELL': 13, 'NEUTRAL': 10}\n",
      "symbol:coalindia\n",
      "{'RECOMMENDATION': 'STRONG_BUY', 'BUY': 16, 'SELL': 0, 'NEUTRAL': 10}\n",
      "symbol:cipla\n",
      "{'RECOMMENDATION': 'SELL', 'BUY': 2, 'SELL': 16, 'NEUTRAL': 8}\n",
      "symbol:jswsteel\n",
      "{'RECOMMENDATION': 'SELL', 'BUY': 6, 'SELL': 12, 'NEUTRAL': 8}\n",
      "symbol:itc\n",
      "{'RECOMMENDATION': 'BUY', 'BUY': 14, 'SELL': 2, 'NEUTRAL': 10}\n",
      "symbol:infy\n",
      "{'RECOMMENDATION': 'STRONG_BUY', 'BUY': 17, 'SELL': 1, 'NEUTRAL': 8}\n",
      "symbol:tatamotors\n",
      "{'RECOMMENDATION': 'BUY', 'BUY': 14, 'SELL': 3, 'NEUTRAL': 9}\n"
     ]
    }
   ],
   "source": [
    "for symbol in symbols:\n",
    "    output=TA_Handler(symbol=symbol,\n",
    "                      screener='india',\n",
    "                      exchange='nse',\n",
    "                      interval=Interval.INTERVAL_1_HOUR)\n",
    "    print('symbol:'+symbol)\n",
    "    print(output.get_analysis().summary)\n",
    "# data=pd.DataFrame(print(output.get_analysis().summary))\n",
    "# data\n",
    "    "
   ]
  },
  {
   "cell_type": "code",
   "execution_count": 4,
   "id": "8897cdde",
   "metadata": {
    "scrolled": true
   },
   "outputs": [
    {
     "name": "stdout",
     "output_type": "stream",
     "text": [
      "symbol:btcusd\n",
      "{'RECOMMENDATION': 'STRONG_BUY', 'BUY': 16, 'SELL': 1, 'NEUTRAL': 9}\n"
     ]
    }
   ],
   "source": [
    "for symbol in symbols_1:\n",
    "    output=TA_Handler(symbol=symbol,\n",
    "                      screener='crypto',\n",
    "                      exchange='binance',\n",
    "                      interval=Interval.INTERVAL_1_MINUTE)\n",
    "    print('symbol:'+symbol)\n",
    "    \n",
    "    print(output.get_analysis().summary)"
   ]
  },
  {
   "cell_type": "code",
   "execution_count": null,
   "id": "272bf0f1",
   "metadata": {},
   "outputs": [],
   "source": []
  },
  {
   "cell_type": "code",
   "execution_count": null,
   "id": "aaf069d2",
   "metadata": {},
   "outputs": [],
   "source": []
  },
  {
   "cell_type": "code",
   "execution_count": null,
   "id": "93924ca7",
   "metadata": {},
   "outputs": [],
   "source": []
  },
  {
   "cell_type": "code",
   "execution_count": null,
   "id": "d7afba3b",
   "metadata": {},
   "outputs": [],
   "source": []
  },
  {
   "cell_type": "code",
   "execution_count": null,
   "id": "54ce3092",
   "metadata": {},
   "outputs": [],
   "source": []
  },
  {
   "cell_type": "code",
   "execution_count": null,
   "id": "96b9ed32",
   "metadata": {},
   "outputs": [],
   "source": []
  },
  {
   "cell_type": "code",
   "execution_count": null,
   "id": "06a587e8",
   "metadata": {},
   "outputs": [],
   "source": []
  },
  {
   "cell_type": "code",
   "execution_count": null,
   "id": "ec51b8d5",
   "metadata": {},
   "outputs": [],
   "source": []
  },
  {
   "cell_type": "code",
   "execution_count": null,
   "id": "ca0facd1",
   "metadata": {},
   "outputs": [],
   "source": []
  },
  {
   "cell_type": "code",
   "execution_count": null,
   "id": "2529ebf4",
   "metadata": {},
   "outputs": [],
   "source": []
  },
  {
   "cell_type": "code",
   "execution_count": null,
   "id": "dd961ebb",
   "metadata": {},
   "outputs": [],
   "source": []
  },
  {
   "cell_type": "code",
   "execution_count": null,
   "id": "f4244453",
   "metadata": {},
   "outputs": [],
   "source": []
  },
  {
   "cell_type": "code",
   "execution_count": null,
   "id": "c70d3ac9",
   "metadata": {},
   "outputs": [],
   "source": []
  },
  {
   "cell_type": "code",
   "execution_count": null,
   "id": "c3aa86e5",
   "metadata": {},
   "outputs": [],
   "source": []
  },
  {
   "cell_type": "code",
   "execution_count": null,
   "id": "cd1270b3",
   "metadata": {},
   "outputs": [],
   "source": []
  },
  {
   "cell_type": "code",
   "execution_count": null,
   "id": "657d3f71",
   "metadata": {},
   "outputs": [],
   "source": []
  },
  {
   "cell_type": "code",
   "execution_count": null,
   "id": "f58777b5",
   "metadata": {},
   "outputs": [],
   "source": []
  },
  {
   "cell_type": "code",
   "execution_count": null,
   "id": "0e2793db",
   "metadata": {},
   "outputs": [],
   "source": []
  },
  {
   "cell_type": "code",
   "execution_count": null,
   "id": "bf3e49f5",
   "metadata": {},
   "outputs": [],
   "source": []
  },
  {
   "cell_type": "code",
   "execution_count": null,
   "id": "13cdb1f9",
   "metadata": {},
   "outputs": [],
   "source": []
  },
  {
   "cell_type": "code",
   "execution_count": null,
   "id": "496aa4fe",
   "metadata": {},
   "outputs": [],
   "source": []
  },
  {
   "cell_type": "code",
   "execution_count": null,
   "id": "7317fbed",
   "metadata": {},
   "outputs": [],
   "source": []
  },
  {
   "cell_type": "code",
   "execution_count": null,
   "id": "d014c853",
   "metadata": {},
   "outputs": [],
   "source": []
  },
  {
   "cell_type": "code",
   "execution_count": null,
   "id": "c67fc393",
   "metadata": {},
   "outputs": [],
   "source": []
  },
  {
   "cell_type": "code",
   "execution_count": null,
   "id": "9e6c7316",
   "metadata": {},
   "outputs": [],
   "source": []
  },
  {
   "cell_type": "code",
   "execution_count": null,
   "id": "7436b8f7",
   "metadata": {},
   "outputs": [],
   "source": []
  },
  {
   "cell_type": "code",
   "execution_count": null,
   "id": "033ccbdb",
   "metadata": {},
   "outputs": [],
   "source": []
  },
  {
   "cell_type": "code",
   "execution_count": null,
   "id": "a3cda8eb",
   "metadata": {},
   "outputs": [],
   "source": []
  },
  {
   "cell_type": "code",
   "execution_count": null,
   "id": "9d5d6440",
   "metadata": {},
   "outputs": [],
   "source": []
  },
  {
   "cell_type": "code",
   "execution_count": null,
   "id": "bcdffdf9",
   "metadata": {},
   "outputs": [],
   "source": []
  },
  {
   "cell_type": "code",
   "execution_count": null,
   "id": "030854c2",
   "metadata": {},
   "outputs": [],
   "source": []
  },
  {
   "cell_type": "code",
   "execution_count": null,
   "id": "21a330a1",
   "metadata": {},
   "outputs": [],
   "source": []
  },
  {
   "cell_type": "code",
   "execution_count": null,
   "id": "d6843234",
   "metadata": {},
   "outputs": [],
   "source": []
  },
  {
   "cell_type": "code",
   "execution_count": null,
   "id": "6da3a3d0",
   "metadata": {},
   "outputs": [],
   "source": []
  },
  {
   "cell_type": "code",
   "execution_count": null,
   "id": "c439746d",
   "metadata": {},
   "outputs": [],
   "source": []
  },
  {
   "cell_type": "code",
   "execution_count": null,
   "id": "3bdae879",
   "metadata": {},
   "outputs": [],
   "source": []
  },
  {
   "cell_type": "code",
   "execution_count": null,
   "id": "ac2f6766",
   "metadata": {},
   "outputs": [],
   "source": [
    "\n"
   ]
  },
  {
   "cell_type": "code",
   "execution_count": null,
   "id": "9d220627",
   "metadata": {},
   "outputs": [],
   "source": []
  },
  {
   "cell_type": "code",
   "execution_count": null,
   "id": "7757b699",
   "metadata": {},
   "outputs": [],
   "source": []
  },
  {
   "cell_type": "code",
   "execution_count": null,
   "id": "9dd47c86",
   "metadata": {},
   "outputs": [],
   "source": []
  },
  {
   "cell_type": "code",
   "execution_count": null,
   "id": "d4bd4784",
   "metadata": {},
   "outputs": [],
   "source": []
  },
  {
   "cell_type": "code",
   "execution_count": null,
   "id": "63e1bec4",
   "metadata": {},
   "outputs": [],
   "source": []
  },
  {
   "cell_type": "code",
   "execution_count": null,
   "id": "cad4906b",
   "metadata": {},
   "outputs": [],
   "source": []
  },
  {
   "cell_type": "code",
   "execution_count": null,
   "id": "6f4a7835",
   "metadata": {},
   "outputs": [],
   "source": []
  },
  {
   "cell_type": "code",
   "execution_count": null,
   "id": "1431a7dd",
   "metadata": {},
   "outputs": [],
   "source": []
  },
  {
   "cell_type": "code",
   "execution_count": null,
   "id": "faa9a74f",
   "metadata": {},
   "outputs": [],
   "source": []
  },
  {
   "cell_type": "code",
   "execution_count": null,
   "id": "94c18e31",
   "metadata": {},
   "outputs": [],
   "source": []
  },
  {
   "cell_type": "code",
   "execution_count": null,
   "id": "615ed5e8",
   "metadata": {},
   "outputs": [],
   "source": []
  },
  {
   "cell_type": "code",
   "execution_count": null,
   "id": "8a514f53",
   "metadata": {},
   "outputs": [],
   "source": []
  },
  {
   "cell_type": "code",
   "execution_count": null,
   "id": "7dc141cd",
   "metadata": {},
   "outputs": [],
   "source": []
  },
  {
   "cell_type": "code",
   "execution_count": null,
   "id": "2ecb4b9a",
   "metadata": {},
   "outputs": [],
   "source": []
  },
  {
   "cell_type": "code",
   "execution_count": null,
   "id": "bad52b16",
   "metadata": {},
   "outputs": [],
   "source": []
  },
  {
   "cell_type": "code",
   "execution_count": null,
   "id": "942588ca",
   "metadata": {},
   "outputs": [],
   "source": []
  },
  {
   "cell_type": "code",
   "execution_count": null,
   "id": "87ec25eb",
   "metadata": {},
   "outputs": [],
   "source": []
  },
  {
   "cell_type": "code",
   "execution_count": null,
   "id": "9b818133",
   "metadata": {},
   "outputs": [],
   "source": []
  },
  {
   "cell_type": "code",
   "execution_count": null,
   "id": "b0889d92",
   "metadata": {},
   "outputs": [],
   "source": []
  },
  {
   "cell_type": "code",
   "execution_count": null,
   "id": "3f9bedaf",
   "metadata": {},
   "outputs": [],
   "source": []
  },
  {
   "cell_type": "code",
   "execution_count": null,
   "id": "cb91fbe2",
   "metadata": {},
   "outputs": [],
   "source": []
  },
  {
   "cell_type": "code",
   "execution_count": null,
   "id": "48d77cf2",
   "metadata": {},
   "outputs": [],
   "source": []
  },
  {
   "cell_type": "code",
   "execution_count": null,
   "id": "c1bc06ba",
   "metadata": {},
   "outputs": [],
   "source": []
  },
  {
   "cell_type": "code",
   "execution_count": null,
   "id": "84b82a1d",
   "metadata": {},
   "outputs": [],
   "source": []
  },
  {
   "cell_type": "code",
   "execution_count": null,
   "id": "286650a2",
   "metadata": {},
   "outputs": [],
   "source": []
  },
  {
   "cell_type": "code",
   "execution_count": null,
   "id": "76e03b30",
   "metadata": {},
   "outputs": [],
   "source": []
  },
  {
   "cell_type": "code",
   "execution_count": null,
   "id": "90e67c40",
   "metadata": {},
   "outputs": [],
   "source": []
  },
  {
   "cell_type": "code",
   "execution_count": null,
   "id": "c01bdb99",
   "metadata": {},
   "outputs": [],
   "source": []
  },
  {
   "cell_type": "code",
   "execution_count": null,
   "id": "f0cc8058",
   "metadata": {},
   "outputs": [],
   "source": []
  },
  {
   "cell_type": "code",
   "execution_count": null,
   "id": "45099a78",
   "metadata": {},
   "outputs": [],
   "source": []
  },
  {
   "cell_type": "code",
   "execution_count": null,
   "id": "2d5c343f",
   "metadata": {},
   "outputs": [],
   "source": []
  }
 ],
 "metadata": {
  "kernelspec": {
   "display_name": "Python 3 (ipykernel)",
   "language": "python",
   "name": "python3"
  },
  "language_info": {
   "codemirror_mode": {
    "name": "ipython",
    "version": 3
   },
   "file_extension": ".py",
   "mimetype": "text/x-python",
   "name": "python",
   "nbconvert_exporter": "python",
   "pygments_lexer": "ipython3",
   "version": "3.10.6"
  }
 },
 "nbformat": 4,
 "nbformat_minor": 5
}
